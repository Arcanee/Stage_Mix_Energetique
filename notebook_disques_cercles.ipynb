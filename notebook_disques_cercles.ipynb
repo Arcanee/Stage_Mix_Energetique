{
 "cells": [
  {
   "attachments": {},
   "cell_type": "markdown",
   "metadata": {},
   "source": [
    "## Test de détection de disques / cercles\n",
    "\n",
    "Le but ici est de différencier les pions non pas grâce à un code mais grâce à un socle de couleur."
   ]
  },
  {
   "attachments": {},
   "cell_type": "markdown",
   "metadata": {},
   "source": [
    "*Modules Python requis : numpy et opencv-contrib-python*"
   ]
  },
  {
   "cell_type": "code",
   "execution_count": null,
   "metadata": {},
   "outputs": [],
   "source": [
    "import numpy as np\n",
    "from collections import Counter\n",
    "import cv2 as cv\n",
    "import sys"
   ]
  },
  {
   "attachments": {},
   "cell_type": "markdown",
   "metadata": {},
   "source": [
    "**IMPORTANT : Quand les cellules de test de détection vont s'exécuter, une fenêtre s'appelant \"Results\" va s'ouvrir. Il ne faut PAS fermer la fenêtre avec la croix sinon jupyter sera bloqué ! Il suffit d'avoir le focus sur la fenêtre et d'appuyer sur une touche, par exemple la barre espace (attention, parfois la fenêtre est bien là, mais pas au premier plan, ce qui rend la chose un peu fastidieuse malheureusement).**"
   ]
  },
  {
   "cell_type": "code",
   "execution_count": null,
   "metadata": {},
   "outputs": [],
   "source": [
    "# Le detecteur de code Aruco\n",
    "det = cv.aruco.ArucoDetector()"
   ]
  },
  {
   "cell_type": "code",
   "execution_count": null,
   "metadata": {},
   "outputs": [],
   "source": [
    "# Affichage de fenetre\n",
    "def display(title, img):\n",
    "    cv.imshow(title, img)\n",
    "    cv.waitKey(0) # Attente d'appui sur une touche\n",
    "    cv.destroyAllWindows()\n",
    "\n",
    "\n",
    "# Surbrillance des cercles\n",
    "def highlightCircles(img, circles):\n",
    "    for i in circles[0]:\n",
    "            center = (i[0], i[1])\n",
    "            radius = i[2]\n",
    "            cv.circle(img, center, 1, (0, 100, 100), 3)\n",
    "            cv.circle(img, center, radius, (255, 0, 255), 3)\n",
    " \n",
    "    display(\"Detection des cercles\", img)\n"
   ]
  },
  {
   "attachments": {},
   "cell_type": "markdown",
   "metadata": {},
   "source": [
    "Pour détecter les cercles, j'utilise la transformée de Hough, via une fonction qui renvoie les couples (centre, rayon) de tous les cercles détectés."
   ]
  },
  {
   "cell_type": "code",
   "execution_count": null,
   "metadata": {},
   "outputs": [],
   "source": [
    "def detCircles(img):\n",
    "    \n",
    "    gray = cv.cvtColor(img, cv.COLOR_BGR2GRAY)\n",
    "    gray = cv.medianBlur(gray, 5)\n",
    "    \n",
    "    circles = cv.HoughCircles(gray, cv.HOUGH_GRADIENT, 1, 30, param1=80, param2=18, minRadius=5, maxRadius=20)    \n",
    "    \n",
    "    circles = np.uint16(np.around(circles))\n",
    "\n",
    "    \n",
    "    return circles\n",
    "    \n",
    "\n",
    "def locate(coord, color):\n",
    "    print(color)"
   ]
  },
  {
   "attachments": {},
   "cell_type": "markdown",
   "metadata": {},
   "source": [
    "La fonction de redressage de l'image est toujours présente :"
   ]
  },
  {
   "cell_type": "code",
   "execution_count": null,
   "metadata": {},
   "outputs": [],
   "source": [
    "# Recupere les 4 coins du plateau\n",
    "def getBoardCorners(img):\n",
    "    pts, ids, reject = det.detectMarkers(img)\n",
    "    corners = []\n",
    "\n",
    "    # On garde les coordonnees des Aruco dont l'id est 0\n",
    "    for i in range(len(ids)):\n",
    "        if ids[i][0] == 0:\n",
    "            corners.append(pts[i][0].astype(int))\n",
    "\n",
    "\n",
    "    # On trie les coordonnees pour avoir les Aruco en partant d'en haut a gauche dans le sens horaire\n",
    "\n",
    "    # Tri horizontal\n",
    "    for i in range(len(corners)):\n",
    "        for j in range(len(corners)-i-1):\n",
    "            if corners[j][0][0] > corners[j+1][0][0]: # s'il est + a droite, on swap\n",
    "                aux = corners[j]\n",
    "                corners[j] = corners[j+1]\n",
    "                corners[j+1] = aux\n",
    "    \n",
    "    # Tri vertical\n",
    "    if corners[0][0][1] > corners[1][0][1]: # s'il est + bas, on swap\n",
    "        aux = corners[0]\n",
    "        corners[0] = corners[1]\n",
    "        corners[1] = aux\n",
    "\n",
    "    if corners[2][0][1] > corners[3][0][1]:\n",
    "        aux = corners[2]\n",
    "        corners[2] = corners[3]\n",
    "        corners[3] = aux\n",
    "\n",
    "    # Arrangement final \n",
    "    aux = corners[1]\n",
    "    corners[1] = corners[2]\n",
    "    corners[2] = corners[3]\n",
    "    corners[3] = aux\n",
    "\n",
    "    # Seuls les coins du plateau nous interessent a present\n",
    "    corners[0] = corners[0][0]\n",
    "    corners[1] = corners[1][1]\n",
    "    corners[2] = corners[2][2]\n",
    "    corners[3] = corners[3][3]\n",
    "\n",
    "    return corners\n"
   ]
  },
  {
   "attachments": {},
   "cell_type": "markdown",
   "metadata": {},
   "source": [
    "Pour détecter la couleur des cercles, je vérifie si le centre du disque correspond à un intervalle de couleur parmi ceux définis.\n",
    "\n",
    "Les intervalles définis sont construits à partir de couleurs d'étalonnage présents sur l'image."
   ]
  },
  {
   "cell_type": "code",
   "execution_count": null,
   "metadata": {},
   "outputs": [],
   "source": [
    "def detColor(img):\n",
    "    display(\"Image d'origine\", img)\n",
    "\n",
    "    # On recupere les coins\n",
    "    boardCorners = getBoardCorners(img)\n",
    "\n",
    "    # Correction de la perspective\n",
    "    pts1 = np.float32(boardCorners)\n",
    "    pts2 = np.float32([[5,5], [1125,5], [1125,745], [5,745]])\n",
    "    M = cv.getPerspectiveTransform(pts1,pts2)\n",
    "    img = cv.warpPerspective(img,M,(1135,755))\n",
    "\n",
    "\n",
    "    # On recupere les nouveaux coins\n",
    "    boardCorners = getBoardCorners(img)\n",
    "    display(\"Perspective corrigee\", img)\n",
    "\n",
    "    # Contours du plateau\n",
    "    cv.polylines(img, np.array([boardCorners]), True, (0,0,255), 2)\n",
    "    display(\"Detection du plateau\", img)\n",
    "\n",
    "    # Contours (pour visualiser seulement)\n",
    "    edges = cv.Canny(img, 80, 40)\n",
    "    display(\"Detection des contours\", edges)\n",
    "\n",
    "    # Detection des cercles\n",
    "    circles = detCircles(img)\n",
    "\n",
    "    # Etalonnage\n",
    "    hsv = cv.cvtColor(img, cv.COLOR_BGR2HSV)\n",
    "    cal = {\"green\" : (hsv[155][45] - np.array([5, 40, 60]), hsv[155][45] + np.array([5, 40, 60])),\n",
    "           \"navy\" : (hsv[210][45] - np.array([5, 40, 60]), hsv[210][45] + np.array([5, 40, 60])),\n",
    "           \"beige\" : (hsv[270][45] - np.array([5, 40, 60]), hsv[270][45] + np.array([5, 40, 60])),\n",
    "           \"sky\" : (hsv[335][45] - np.array([5, 40, 60]), hsv[335][45] + np.array([5, 40, 60]))}\n",
    "\n",
    "    for c in circles[0]:\n",
    "        color = hsv[c[1]][c[0]]\n",
    "\n",
    "        if (color >= cal[\"green\"][0]).all() and (color <= cal[\"green\"][1]).all():\n",
    "            locate(c, \"green\")\n",
    "        elif (color >= cal[\"navy\"][0]).all() and (color <= cal[\"navy\"][1]).all():\n",
    "            locate(c, \"navy\")\n",
    "        elif (color >= cal[\"beige\"][0]).all() and (color <= cal[\"beige\"][1]).all():\n",
    "            locate(c, \"beige\")\n",
    "        elif (color >= cal[\"sky\"][0]).all() and (color <= cal[\"sky\"][1]).all():\n",
    "            locate(c, \"sky\")\n",
    "        else:\n",
    "            raise Exception(\"couleur non reconnue\")\n",
    "\n",
    "    \n",
    "\n",
    "    highlightCircles(img, circles)\n",
    "\n"
   ]
  },
  {
   "cell_type": "code",
   "execution_count": null,
   "metadata": {},
   "outputs": [],
   "source": [
    "\n",
    "\n",
    "# Pour boucler sur toutes les images\n",
    "dictImg =  {0: \"img/photo/france.jpg\",\n",
    "            1: \"img/photo/france-2.jpg\"} \n",
    "dico = dictImg"
   ]
  },
  {
   "attachments": {},
   "cell_type": "markdown",
   "metadata": {},
   "source": [
    "Boucle principale :"
   ]
  },
  {
   "cell_type": "code",
   "execution_count": null,
   "metadata": {},
   "outputs": [],
   "source": [
    "\n",
    "for k in dico: # Pour chaque image\n",
    "\n",
    "    print(\"\\n################\\n\")\n",
    "\n",
    "    img = cv.imread(dico[k]) # Lecture de img\n",
    "    print(dico[k])\n",
    "    print(\"\")\n",
    "\n",
    "    detColor(img)\n",
    "   \n",
    "    "
   ]
  },
  {
   "attachments": {},
   "cell_type": "markdown",
   "metadata": {},
   "source": [
    "Bilan : la détection de couleur avec l'étalonnage marche super bien pour ces couleurs là.\n",
    "\n",
    "La détection des disques est un peu plus capricieuse, peut-être car ils ont été découpés à la main et ne sont donc pas parfaits.\n",
    "\n",
    "Maintenant, je vais tester avec des cercles."
   ]
  },
  {
   "cell_type": "code",
   "execution_count": null,
   "metadata": {},
   "outputs": [],
   "source": [
    "dictImg =  {2: \"img/photo/cercle-1.jpg\",\n",
    "            3: \"img/photo/cercle-2.jpg\",\n",
    "            4: \"img/photo/cercle-3.jpg\",} \n",
    "dico = dictImg"
   ]
  },
  {
   "cell_type": "code",
   "execution_count": null,
   "metadata": {},
   "outputs": [],
   "source": [
    "def detColor(img):\n",
    "    display(\"Image d'origine\", img)\n",
    "\n",
    "    # On recupere les coins\n",
    "    boardCorners = getBoardCorners(img)\n",
    "\n",
    "    # Correction de la perspective\n",
    "    pts1 = np.float32(boardCorners)\n",
    "    pts2 = np.float32([[5,5], [1125,5], [1125,745], [5,745]])\n",
    "    M = cv.getPerspectiveTransform(pts1,pts2)\n",
    "    img = cv.warpPerspective(img,M,(1135,755))\n",
    "\n",
    "\n",
    "    # On recupere les nouveaux coins\n",
    "    boardCorners = getBoardCorners(img)\n",
    "    display(\"Perspective corrigee\", img)\n",
    "\n",
    "    # Contours du plateau\n",
    "    cv.polylines(img, np.array([boardCorners]), True, (0,0,255), 2)\n",
    "    display(\"Detection du plateau\", img)\n",
    "\n",
    "    # Contours (pour visualiser seulement)\n",
    "    edges = cv.Canny(img, 80, 40)\n",
    "    display(\"Detection des contours\", edges)\n",
    "\n",
    "    # Detection des cercles\n",
    "    circles = detCircles(img)\n",
    "\n",
    "    # Etalonnage\n",
    "    hsv = cv.cvtColor(img, cv.COLOR_BGR2HSV)\n",
    "    cal = {\"green\" : (hsv[155][45] - np.array([5, 40, 60]), hsv[155][45] + np.array([5, 40, 60])),\n",
    "           \"navy\" : (hsv[210][45] - np.array([5, 40, 60]), hsv[210][45] + np.array([5, 40, 60])),\n",
    "           \"beige\" : (hsv[270][45] - np.array([5, 40, 60]), hsv[270][45] + np.array([5, 40, 60])),\n",
    "           \"sky\" : (hsv[335][45] - np.array([5, 40, 60]), hsv[335][45] + np.array([5, 40, 60])),\n",
    "           \"feutre_vert\" : (hsv[146][42] - np.array([5, 40, 60]), hsv[146][42] + np.array([5, 40, 60])),\n",
    "           \"feutre_rouge\" : (hsv[210][40] - np.array([5, 40, 60]), hsv[210][40] + np.array([5, 40, 60]))}\n",
    "\n",
    "    for c in circles[0]:\n",
    "        color = hsv[c[1]][c[0]]\n",
    "        borderColor = hsv[c[1]+c[2]][c[0]]\n",
    "\n",
    "        if (color >= cal[\"green\"][0]).all() and (color <= cal[\"green\"][1]).all():\n",
    "            locate(c, \"green\")\n",
    "        elif (color >= cal[\"navy\"][0]).all() and (color <= cal[\"navy\"][1]).all():\n",
    "            locate(c, \"navy\")\n",
    "        elif (color >= cal[\"beige\"][0]).all() and (color <= cal[\"beige\"][1]).all():\n",
    "            locate(c, \"beige\")\n",
    "        elif (color >= cal[\"sky\"][0]).all() and (color <= cal[\"sky\"][1]).all():\n",
    "            locate(c, \"sky\")\n",
    "        elif (borderColor >= cal[\"feutre_vert\"][0]).all() and (borderColor <= cal[\"feutre_vert\"][1]).all():\n",
    "            locate(c, \"feutre_vert\")\n",
    "        elif (borderColor >= cal[\"feutre_rouge\"][0]).all() and (borderColor <= cal[\"feutre_rouge\"][1]).all():\n",
    "            locate(c, \"feutre_rouge\")\n",
    "        else:\n",
    "            pass\n",
    "            #raise Exception(\"couleur non reconnue\")\n",
    "\n",
    "    \n",
    "\n",
    "    highlightCircles(img, circles)\n"
   ]
  },
  {
   "attachments": {},
   "cell_type": "markdown",
   "metadata": {},
   "source": [
    "Sensibilité beaucoup plus basse (param1 et param2):"
   ]
  },
  {
   "cell_type": "code",
   "execution_count": null,
   "metadata": {},
   "outputs": [],
   "source": [
    "def detCircles(img):\n",
    "    \n",
    "    gray = cv.cvtColor(img, cv.COLOR_BGR2GRAY)\n",
    "    gray = cv.medianBlur(gray, 5)\n",
    "    \n",
    "    circles = cv.HoughCircles(gray, cv.HOUGH_GRADIENT, 1, 30, param1=100, param2=30, minRadius=5, maxRadius=20)    \n",
    "    \n",
    "    circles = np.uint16(np.around(circles))\n",
    "\n",
    "    \n",
    "    return circles"
   ]
  },
  {
   "attachments": {},
   "cell_type": "markdown",
   "metadata": {},
   "source": [
    "Boucle principale :"
   ]
  },
  {
   "cell_type": "code",
   "execution_count": null,
   "metadata": {},
   "outputs": [],
   "source": [
    "\n",
    "for k in dico: # Pour chaque image\n",
    "\n",
    "    print(\"\\n################\\n\")\n",
    "\n",
    "    img = cv.imread(dico[k]) # Lecture de img\n",
    "    print(dico[k])\n",
    "    print(\"\")\n",
    "\n",
    "    detColor(img)\n",
    "   \n",
    "    "
   ]
  },
  {
   "attachments": {},
   "cell_type": "markdown",
   "metadata": {},
   "source": [
    "Ne pas faire attention aux couleurs pour l'instant !\n",
    "\n",
    "A part ça, on voit que les cercles sont bien mieux détectés !\n",
    "\n",
    "Maintenant, on va voir si c'est robuste quand le cercle n'est pas complet. Dans l'image suivante, j'ai ajouté 2 cercles quasi fermés, 2 cercles un peu moins fermés et 2 demi-cercles."
   ]
  },
  {
   "cell_type": "code",
   "execution_count": null,
   "metadata": {},
   "outputs": [],
   "source": [
    "dictImg =  {5: \"img/photo/cercle-4.png\"} \n",
    "dico = dictImg"
   ]
  },
  {
   "cell_type": "code",
   "execution_count": null,
   "metadata": {},
   "outputs": [],
   "source": [
    "\n",
    "for k in dico: # Pour chaque image\n",
    "\n",
    "    print(\"\\n################\\n\")\n",
    "\n",
    "    img = cv.imread(dico[k]) # Lecture de img\n",
    "    print(dico[k])\n",
    "    print(\"\")\n",
    "\n",
    "    detColor(img)\n",
    "   \n",
    "    "
   ]
  },
  {
   "attachments": {},
   "cell_type": "markdown",
   "metadata": {},
   "source": [
    "Comme on peut le voir (toujours sans regarder la couleur), même les demi-cercles sont parfaitement détectés."
   ]
  }
 ],
 "metadata": {
  "kernelspec": {
   "display_name": "Python 3",
   "language": "python",
   "name": "python3"
  },
  "language_info": {
   "codemirror_mode": {
    "name": "ipython",
    "version": 3
   },
   "file_extension": ".py",
   "mimetype": "text/x-python",
   "name": "python",
   "nbconvert_exporter": "python",
   "pygments_lexer": "ipython3",
   "version": "3.8.10"
  },
  "orig_nbformat": 4
 },
 "nbformat": 4,
 "nbformat_minor": 2
}
