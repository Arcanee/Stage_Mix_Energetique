{
 "cells": [
  {
   "attachments": {},
   "cell_type": "markdown",
   "metadata": {},
   "source": [
    "## Test de détection par couleur avec le jeu RISK\n",
    "\n",
    "Le plateau de ce jeu offre de grandes zones et des couleurs distinctes pour chaque zone, cela me semble donc intéressant d'en tirer profit"
   ]
  },
  {
   "attachments": {},
   "cell_type": "markdown",
   "metadata": {},
   "source": [
    "*Modules Python requis : numpy et opencv-contrib-python*"
   ]
  },
  {
   "cell_type": "code",
   "execution_count": null,
   "metadata": {},
   "outputs": [],
   "source": [
    "import numpy as np\n",
    "from collections import Counter\n",
    "import cv2 as cv\n",
    "import sys"
   ]
  },
  {
   "attachments": {},
   "cell_type": "markdown",
   "metadata": {},
   "source": [
    "**IMPORTANT : Quand les cellules de test de détection vont s'exécuter, une fenêtre s'appelant \"Results\" va s'ouvrir. Il ne faut PAS fermer la fenêtre avec la croix sinon jupyter sera bloqué ! Il suffit d'avoir le focus sur la fenêtre et d'appuyer sur une touche, par exemple la barre espace (attention, parfois la fenêtre est bien là, mais pas au premier plan, ce qui rend la chose un peu fastidieuse malheureusement).**"
   ]
  },
  {
   "cell_type": "code",
   "execution_count": null,
   "metadata": {},
   "outputs": [],
   "source": [
    "# Surbrillance des codes ArUco\n",
    "def displayBorder(im, pts):\n",
    "    N = len(pts)\n",
    "    for i in range(N):\n",
    "        square = pts[i].astype(int)\n",
    "        cv.polylines(im, [square], True, (188,255,5), 2) # Turquoise border\n",
    " \n",
    "    # Affiche le resultat dans une fenêtre\n",
    "    cv.imshow(\"Results\", im)\n",
    "    cv.waitKey(0) # Attente d'appui sur une touche\n",
    "    cv.destroyAllWindows()\n",
    "\n"
   ]
  },
  {
   "attachments": {},
   "cell_type": "markdown",
   "metadata": {},
   "source": [
    "Voilà ce qui va permettre de différencier les couleurs sur un pixel. En lisant son contenu, on récupère ses valeurs H (teinte), S (saturation) et V (luminosité).\n",
    "\n",
    "On regarde ensuite si ces valeurs tombent dans les intervalles prédéfinis pour les couleurs suivantes."
   ]
  },
  {
   "cell_type": "code",
   "execution_count": null,
   "metadata": {},
   "outputs": [],
   "source": [
    "colorList = { # in HSV  color space (opencv HSV ranges from (0,0,0) to (180,255,255))\n",
    "\t\"red1\" : (np.array([0, 25, 102]), np.array([4, 255, 255])), # red (first degrees)\n",
    "\t\"red2\" : (np.array([175, 25, 102]), np.array([180, 255, 255])), # red (last degrees)\n",
    "\t\"yellow\" : (np.array([27, 76, 178]), np.array([33, 255, 255])), # yellow\n",
    "    \"purple\" : (np.array([125, 25, 51]), np.array([145, 255, 255])), # purple\n",
    "    \"orange\" : (np.array([10, 76, 153]), np.array([15, 255, 255])), # orange\n",
    "    \"green\" : (np.array([35, 25, 51]), np.array([60, 255, 255])), # green\n",
    "    \"blue\" : (np.array([90, 38, 76]), np.array([115, 255, 255])) # blue\n",
    "}\n",
    "\n",
    "dictZone = {}\n",
    "def checkColor(img, corner, ids):\n",
    "    hsv = cv.cvtColor(img, cv.COLOR_BGR2HSV)\n",
    "    for i in range(len(corner)):\n",
    "        coords = corner[i].astype(int)[0]\n",
    "        id = ids[i][0]\n",
    "\n",
    "        p1 = hsv[coords[0][1] - 5][coords[0][0] - 5] # diagonale de 5x5 pixels en haut à gauche de chaque coin\n",
    "        p2 = hsv[coords[1][1] - 5][coords[1][0] - 5]\n",
    "        p3 = hsv[coords[2][1] - 5][coords[2][0] - 5]\n",
    "        p4 = hsv[coords[3][1] - 5][coords[3][0] - 5]\n",
    "\n",
    "        red1 = colorList[\"red1\"]\n",
    "        red2 = colorList[\"red2\"]\n",
    "        green = colorList[\"green\"]\n",
    "        purple = colorList[\"purple\"]\n",
    "        yellow = colorList[\"yellow\"]\n",
    "        orange = colorList[\"orange\"]\n",
    "        blue = colorList[\"blue\"]\n",
    "\n",
    "        if ((p1 >= red1[0]).all() and (p1 <= red1[1]).all()) or ((p2 >= red1[0]).all() and (p2 <= red1[1]).all()) or ((p3 >= red1[0]).all() and (p3 <= red1[1]).all()) or ((p4 >= red1[0]).all() and (p4 <= red1[1]).all()):\n",
    "            dictZone[\"Afrique\"].append(id)\n",
    "        elif ((p1 >= red2[0]).all() and (p1 <= red2[1]).all()) or ((p2 >= red2[0]).all() and (p2 <= red2[1]).all()) or ((p3 >= red2[0]).all() and (p3 <= red2[1]).all()) or ((p4 >= red2[0]).all() and (p4 <= red2[1]).all()):\n",
    "            dictZone[\"Afrique\"].append(id)\n",
    "        elif ((p1 >= green[0]).all() and (p1 <= green[1]).all()) or ((p2 >= green[0]).all() and (p2 <= green[1]).all()) or ((p3 >= green[0]).all() and (p3 <= green[1]).all()) or ((p4 >= green[0]).all() and (p4 <= green[1]).all()):\n",
    "            dictZone[\"Asie\"].append(id)\n",
    "        elif ((p1 >= purple[0]).all() and (p1 <= purple[1]).all()) or ((p2 >= purple[0]).all() and (p2 <= purple[1]).all()) or ((p3 >= purple[0]).all() and (p3 <= purple[1]).all()) or ((p4 >= purple[0]).all() and (p4 <= purple[1]).all()):\n",
    "            dictZone[\"Oceanie\"].append(id)\n",
    "        elif ((p1 >= yellow[0]).all() and (p1 <= yellow[1]).all()) or ((p2 >= yellow[0]).all() and (p2 <= yellow[1]).all()) or ((p3 >= yellow[0]).all() and (p3 <= yellow[1]).all()) or ((p4 >= yellow[0]).all() and (p4 <= yellow[1]).all()):\n",
    "            dictZone[\"Amerique du Nord / Groenland\"].append(id)\n",
    "        elif ((p1 >= blue[0]).all() and (p1 <= blue[1]).all()) or ((p2 >= blue[0]).all() and (p2 <= blue[1]).all()) or ((p3 >= blue[0]).all() and (p3 <= blue[1]).all()) or ((p4 >= blue[0]).all() and (p4 <= blue[1]).all()):\n",
    "            dictZone[\"Europe\"].append(id)\n",
    "        elif ((p1 >= orange[0]).all() and (p1 <= orange[1]).all()) or ((p2 >= orange[0]).all() and (p2 <= orange[1]).all()) or ((p3 >= orange[0]).all() and (p3 <= orange[1]).all()) or ((p4 >= orange[0]).all() and (p4 <= orange[1]).all()):\n",
    "            dictZone[\"Amerique du Sud\"].append(id)\n",
    "        else:\n",
    "            print(id, \": X\")\n",
    "    print(\"\")\n",
    "\n"
   ]
  },
  {
   "cell_type": "code",
   "execution_count": null,
   "metadata": {},
   "outputs": [],
   "source": [
    "# Pour boucler sur toutes les images\n",
    "dico =  {0: \"img/photo/risk-1.png\",\n",
    "            1: \"img/photo/risk-2.png\",\n",
    "            2: \"img/photo/risk-3.png\",\n",
    "            3: \"img/photo/risk-4.png\"}\n",
    "\n",
    "\n",
    "# Pour donner un sentiment de reel dans l'affichage\n",
    "dictCode = {0: \"France\",\n",
    "            1: \"Barrage\",\n",
    "            2: \"Panneaux PV\",\n",
    "            3: \"Centrale nucléaire\",\n",
    "            4: \"Eolienne ON\",\n",
    "            5: \"Eolienne OFF\",\n",
    "            6: \"Methaniseur\"}\n",
    "\n",
    "\n",
    "\n",
    "# Le detecteur de code ArUco\n",
    "det = cv.aruco.ArucoDetector()\n",
    "\n"
   ]
  },
  {
   "attachments": {},
   "cell_type": "markdown",
   "metadata": {},
   "source": [
    "Fonction principale :"
   ]
  },
  {
   "cell_type": "code",
   "execution_count": null,
   "metadata": {},
   "outputs": [],
   "source": [
    "for x in dico: # Pour chaque image\n",
    "\n",
    "    dictZone = {\"Amerique du Nord / Groenland\" : [], \"Amerique du Sud\" : [],\n",
    "                \"Oceanie\" : [], \"Afrique\" : [],\n",
    "                \"Europe\" : [], \"Asie\" : []}\n",
    "\n",
    "\n",
    "    print(\"\\n################\\n\")\n",
    "\n",
    "    img = cv.imread(dico[x]) # Lecture de img + detection des codes\n",
    "    corner, id, reject = det.detectMarkers(img) # corner : les coordonnees, id : les donnees lues, reject : si un code est detecte mais donnee impossible a lire\n",
    "    print(dico[x][10:])\n",
    "    print(\"\")\n",
    "\n",
    "    if id is not None: # Si un code detecte\n",
    "        c = Counter(np.sort(id.reshape(1,len(id))[0])) # Liste des elements de \"id\" avec leur nombre\n",
    "\n",
    "        checkColor(img, corner, id)\n",
    "        for k in dictZone:\n",
    "            print(k, \":\", dictZone[k])\n",
    "\n",
    "        print(\"\")\n",
    "        displayBorder(img, corner)\n",
    "\n",
    "\n",
    "        \n",
    "    else: # Si aucun code detecte\n",
    "        print(\"Aruco not detected\")\n",
    "        cv.imshow(\"Results\", img)\n",
    "        cv.waitKey(0) # Attente d'appui sur une touche\n",
    "        cv.destroyAllWindows()\n",
    "    \n",
    "    \n",
    "\n",
    "print(\"\")    \n",
    "\n",
    "\n",
    "\n"
   ]
  },
  {
   "attachments": {},
   "cell_type": "markdown",
   "metadata": {},
   "source": [
    "Les id suivis d'un \"X\" sont des id qui ont été détectés sur l'image mais dont aucune correspondance couleur n'a été trouvée.\n",
    "\n",
    "On voit que même sur la première photo (conditions et cadrage idaux), il y a des codes non détectés et d'autres sans couleur assignée.\n",
    "\n",
    "Sur les photos suivantes, la perspective et la luminosité empirent les résultats, et il est compliqué d'assigner une zone à tout le monde. \n",
    "\n",
    "On peut bien sûr affiner les intervalles de détection de couleur mais finalement, les couleurs du plateau de RISK ne semblent pas idéales et trop sujettes aux changements de luminosité."
   ]
  }
 ],
 "metadata": {
  "kernelspec": {
   "display_name": "Python 3",
   "language": "python",
   "name": "python3"
  },
  "language_info": {
   "codemirror_mode": {
    "name": "ipython",
    "version": 3
   },
   "file_extension": ".py",
   "mimetype": "text/x-python",
   "name": "python",
   "nbconvert_exporter": "python",
   "pygments_lexer": "ipython3",
   "version": "3.8.10"
  },
  "orig_nbformat": 4
 },
 "nbformat": 4,
 "nbformat_minor": 2
}
