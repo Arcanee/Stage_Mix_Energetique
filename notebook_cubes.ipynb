{
 "cells": [
  {
   "attachments": {},
   "cell_type": "markdown",
   "metadata": {},
   "source": [
    "## Test de détection de cubes par leur couleur\n",
    "\n",
    "Le but ici est de tester une approche consistant à placer des pions cubiques, dont la couleur indique ce qu'ils représentent."
   ]
  },
  {
   "attachments": {},
   "cell_type": "markdown",
   "metadata": {},
   "source": [
    "*Modules Python requis : numpy et opencv-contrib-python*"
   ]
  },
  {
   "cell_type": "code",
   "execution_count": null,
   "metadata": {},
   "outputs": [],
   "source": [
    "import numpy as np\n",
    "from collections import Counter\n",
    "import cv2 as cv\n",
    "import sys"
   ]
  },
  {
   "attachments": {},
   "cell_type": "markdown",
   "metadata": {},
   "source": [
    "**IMPORTANT : Quand les cellules de test de détection vont s'exécuter, une fenêtre s'appelant \"Results\" va s'ouvrir. Il ne faut PAS fermer la fenêtre avec la croix sinon jupyter sera bloqué ! Il suffit d'avoir le focus sur la fenêtre et d'appuyer sur une touche, par exemple la barre espace (attention, parfois la fenêtre est bien là, mais pas au premier plan, ce qui rend la chose un peu fastidieuse malheureusement).**"
   ]
  },
  {
   "attachments": {},
   "cell_type": "markdown",
   "metadata": {},
   "source": [
    "On a toujours la détection de code pour reconnaître le plateau."
   ]
  },
  {
   "cell_type": "code",
   "execution_count": null,
   "metadata": {},
   "outputs": [],
   "source": [
    "# Le detecteur de code Aruco\n",
    "det = cv.aruco.ArucoDetector()\n",
    "\n",
    "\n",
    "# Affichage de fenetre\n",
    "def display(title, img):\n",
    "    cv.imshow(title, img)\n",
    "    cv.waitKey(0) # Attente d'appui sur une touche\n",
    "    cv.destroyAllWindows()\n",
    "\n",
    "\n",
    "# Recupere les 4 coins du plateau\n",
    "def getBoardCorners(img):\n",
    "    pts, ids, reject = det.detectMarkers(img)\n",
    "    corners = []\n",
    "\n",
    "    # On garde les coordonnees des Aruco dont l'id est 0\n",
    "    for i in range(len(ids)):\n",
    "        if ids[i][0] == 0:\n",
    "            corners.append(pts[i][0].astype(int))\n",
    "\n",
    "\n",
    "    # On trie les coordonnees pour avoir les Aruco en partant d'en haut a gauche dans le sens horaire\n",
    "\n",
    "    # Tri horizontal\n",
    "    for i in range(len(corners)):\n",
    "        for j in range(len(corners)-i-1):\n",
    "            if corners[j][0][0] > corners[j+1][0][0]: # s'il est + a droite, on swap\n",
    "                aux = corners[j]\n",
    "                corners[j] = corners[j+1]\n",
    "                corners[j+1] = aux\n",
    "    \n",
    "    # Tri vertical\n",
    "    if corners[0][0][1] > corners[1][0][1]: # s'il est + bas, on swap\n",
    "        aux = corners[0]\n",
    "        corners[0] = corners[1]\n",
    "        corners[1] = aux\n",
    "\n",
    "    if corners[2][0][1] > corners[3][0][1]:\n",
    "        aux = corners[2]\n",
    "        corners[2] = corners[3]\n",
    "        corners[3] = aux\n",
    "\n",
    "    # Arrangement final \n",
    "    aux = corners[1]\n",
    "    corners[1] = corners[2]\n",
    "    corners[2] = corners[3]\n",
    "    corners[3] = aux\n",
    "\n",
    "    # Seuls les coins du plateau nous interessent a present\n",
    "    corners[0] = corners[0][0]\n",
    "    corners[1] = corners[1][1]\n",
    "    corners[2] = corners[2][2]\n",
    "    corners[3] = corners[3][3]\n",
    "\n",
    "    return corners\n",
    "\n"
   ]
  },
  {
   "attachments": {},
   "cell_type": "markdown",
   "metadata": {},
   "source": [
    "La fonction inCaption sert à détecter si un cube est dans la zone de légende de couleurs."
   ]
  },
  {
   "cell_type": "code",
   "execution_count": null,
   "metadata": {},
   "outputs": [],
   "source": [
    "def inCaption(box):\n",
    "    return (box[0][0] <= 230 and box[0][1] >= 375)\n"
   ]
  },
  {
   "attachments": {},
   "cell_type": "markdown",
   "metadata": {},
   "source": [
    "Ici, on va chercher tous les éléments d'une certaine couleur sur l'image, et ce pour chaque couleur.\n",
    "\n",
    "Les étapes sont les suivantes :\n",
    "1.  Créer un masque pour filtrer la couleur voulue (récupérée grâce à la légende couleur de la carte)\n",
    "2.  Réduire le bruit sur les éléments filtrés\n",
    "3.  Détecter les contours de chaque élément\n",
    "4.  Pour chaque contour, trouver le rectangle qui s'en rapproche le plus\n",
    "5.  Dessiner ce rectangle, pour avoir un retour visuel"
   ]
  },
  {
   "cell_type": "code",
   "execution_count": null,
   "metadata": {},
   "outputs": [],
   "source": [
    "def detColor(img):\n",
    "    display(\"Image d'origine\", img)\n",
    "\n",
    "    # On recupere les coins\n",
    "    boardCorners = getBoardCorners(img)\n",
    "\n",
    "    # Correction de la perspective\n",
    "    pts1 = np.float32(boardCorners)\n",
    "    pts2 = np.float32([[5,5], [1125,5], [1125,745], [5,745]])\n",
    "    M = cv.getPerspectiveTransform(pts1,pts2)\n",
    "    img = cv.warpPerspective(img,M,(1135,755))\n",
    "\n",
    "\n",
    "    # On recupere les nouveaux coins\n",
    "    boardCorners = getBoardCorners(img)\n",
    "    display(\"Perspective corrigee\", img)\n",
    "\n",
    "    # Contours du plateau\n",
    "    cv.polylines(img, np.array([boardCorners]), True, (0,0,255), 2)\n",
    "    #display(\"Detection du plateau\", img)\n",
    "\n",
    "\n",
    "    # Etalonnage\n",
    "    hsv = cv.cvtColor(img, cv.COLOR_BGR2HSV)\n",
    "    cal = {\"copper\" : (hsv[400][30] - np.array([5, 40, 100]), hsv[400][30] + np.array([5, 40, 100])),\n",
    "           \"navy\" : (hsv[483][187] - np.array([5, 40, 60]), hsv[483][187] + np.array([5, 40, 60])),\n",
    "           \"beige\" : (hsv[422][116] - np.array([5, 40, 60]), hsv[422][116] + np.array([5, 40, 60])),\n",
    "           \"sky\" : (hsv[490][117] - np.array([5, 40, 60]), hsv[490][117] + np.array([5, 40, 60])),\n",
    "           \"silver\" : (hsv[472][27] - np.array([5, 40, 60]), hsv[472][27] + np.array([5, 5, 10])),\n",
    "           \"green\" : (hsv[419][183] - np.array([5, 40, 60]), hsv[419][183] + np.array([5, 40, 60]))\n",
    "            }\n",
    "\n",
    "    # Pour chaque couleur : application de masque + detection de contours\n",
    "    for col in cal:\n",
    "        thresh = cv.inRange(hsv, cal[col][0], cal[col][1])\n",
    "\n",
    "        # Reduction bruit hors contours puis dans contours\n",
    "        kernel = cv.getStructuringElement(cv.MORPH_RECT, (5,5))\n",
    "        open = cv.morphologyEx(thresh, cv.MORPH_OPEN, kernel)\n",
    "        kernel = cv.getStructuringElement(cv.MORPH_RECT, (5,5))\n",
    "        close = cv.morphologyEx(open, cv.MORPH_CLOSE, kernel)\n",
    "        display(col+\" mask + noise reduction\", close)\n",
    "\n",
    "        contours = cv.findContours(close, cv.RETR_EXTERNAL, cv.CHAIN_APPROX_SIMPLE)\n",
    "        contours = contours[0]\n",
    "\n",
    "        # Pour chaque contour : trouver le rectangle qui matche le mieux puis tous les dessiner\n",
    "        sketch = img.copy()\n",
    "        for c in contours:\n",
    "            rot_rect = cv.minAreaRect(c)\n",
    "            box = cv.boxPoints(rot_rect)\n",
    "            box = np.int0(box)\n",
    "            if not inCaption(box):\n",
    "                cv.drawContours(sketch,[box],0,(0,255,0),2)\n",
    "        \n",
    "        display(col+\" contours\", sketch)\n"
   ]
  },
  {
   "cell_type": "code",
   "execution_count": null,
   "metadata": {},
   "outputs": [],
   "source": [
    "# Pour boucler sur toutes les images\n",
    "dictImg =  {5: \"img/photo/cube-1.png\"} "
   ]
  },
  {
   "attachments": {},
   "cell_type": "markdown",
   "metadata": {},
   "source": [
    "La boucle principale :"
   ]
  },
  {
   "cell_type": "code",
   "execution_count": null,
   "metadata": {},
   "outputs": [],
   "source": [
    "\n",
    "for k in dictImg: # Pour chaque image\n",
    "\n",
    "    print(\"\\n################\\n\")\n",
    "\n",
    "    img = cv.imread(dictImg[k]) # Lecture de img\n",
    "    print(dictImg[k])\n",
    "    print(\"\")\n",
    "\n",
    "    detColor(img)\n"
   ]
  },
  {
   "attachments": {},
   "cell_type": "markdown",
   "metadata": {},
   "source": [
    "Résultats : \n",
    "\n",
    "Pour chaque couleur, les bons objets ont été filtrés, les bons contours ont été détectés et l'objet de référence dans la légende a été ignoré.\n",
    "\n",
    "Seule exception : La couleur argentée, ce qui est compréhensible car c'est proche du blanc donc dur à calibrer, et le bureau aussi est gris... De toute évidence ce n'est pas un bon choix de couleur.\n"
   ]
  }
 ],
 "metadata": {
  "kernelspec": {
   "display_name": "Python 3",
   "language": "python",
   "name": "python3"
  },
  "language_info": {
   "codemirror_mode": {
    "name": "ipython",
    "version": 3
   },
   "file_extension": ".py",
   "mimetype": "text/x-python",
   "name": "python",
   "nbconvert_exporter": "python",
   "pygments_lexer": "ipython3",
   "version": "3.8.10"
  },
  "orig_nbformat": 4
 },
 "nbformat": 4,
 "nbformat_minor": 2
}
