{
 "cells": [
  {
   "attachments": {},
   "cell_type": "markdown",
   "metadata": {},
   "source": [
    "# PARTIE 1 : Détection de codes sur une image numérique"
   ]
  },
  {
   "attachments": {},
   "cell_type": "markdown",
   "metadata": {},
   "source": [
    "*Modules Python requis : numpy et opencv-contrib-python*"
   ]
  },
  {
   "cell_type": "code",
   "execution_count": null,
   "metadata": {},
   "outputs": [],
   "source": [
    "import numpy as np\n",
    "import cv2 as cv"
   ]
  },
  {
   "attachments": {},
   "cell_type": "markdown",
   "metadata": {},
   "source": [
    "## A. Détection de QR Codes\n",
    "\n",
    "La fonction display() va permettre d'afficher un contour sur les QR codes reconnus.\n",
    "\n",
    "**IMPORTANT : Quand les cellules de test de détection vont s'exécuter, une fenêtre s'appelant \"Results\" va s'ouvrir. Il ne faut PAS fermer la fenêtre avec la croix sinon jupyter sera bloqué ! Il suffit d'avoir le focus sur la fenêtre et d'appuyer sur une touche, par exemple la barre espace (attention, parfois la fenêtre est bien là, mais pas au premier plan, ce qui rend la chose un peu fastidieuse malheureusement).**"
   ]
  },
  {
   "cell_type": "code",
   "execution_count": null,
   "metadata": {},
   "outputs": [],
   "source": [
    "def displayBorder(im, pts):\n",
    "    N = len(pts)\n",
    "    for i in range(N):\n",
    "        square = pts[i].astype(int)\n",
    "        cv.polylines(im, [square], True, (255,0,0), 2)\n",
    " \n",
    "    \n",
    "    cv.imshow(\"Results\", im)\n",
    "    cv.waitKey(0)\n",
    "    cv.destroyAllWindows()\n",
    "\n",
    "\n",
    "\n"
   ]
  },
  {
   "attachments": {},
   "cell_type": "markdown",
   "metadata": {},
   "source": [
    "La classe QRCodeDetector nous permet de détecter le QR code d'une image qu'on vient de charger."
   ]
  },
  {
   "cell_type": "code",
   "execution_count": null,
   "metadata": {},
   "outputs": [],
   "source": [
    "detQR = cv.QRCodeDetector()"
   ]
  },
  {
   "attachments": {},
   "cell_type": "markdown",
   "metadata": {},
   "source": [
    "La fonction detectAndDecode() renvoie la donnée lue, les coordonnées des 4 coins du QR Code ainsi qu'une image constituée uniquement du QR Code."
   ]
  },
  {
   "cell_type": "code",
   "execution_count": null,
   "metadata": {},
   "outputs": [],
   "source": [
    "img = cv.imread(\"img/paca.png\") # Ce QR Code contient le texte \"region:paca\"\n",
    "data, pts, qr = detQR.detectAndDecode(img)\n",
    "\n",
    "if len(data) > 0:\n",
    "    print(\"Decoded Data : {}\".format(data))\n",
    "    displayBorder(img, pts)\n",
    "else:\n",
    "    print(\"QR Code not detected\")\n",
    "    cv.imshow(\"Results\", img)\n",
    "    cv.waitKey(0)\n",
    "    cv.destroyAllWindows()\n",
    "    \n",
    "# NE PAS FERMER LA FENETRE AVEC LA CROIX ! APPUYER SUR ESPACE"
   ]
  },
  {
   "attachments": {},
   "cell_type": "markdown",
   "metadata": {},
   "source": [
    "Cela marche également pour plusieurs QR Codes. La fonction correspondante renvoie en plus un booléen indiquant s'il y a oui ou non plusieurs codes."
   ]
  },
  {
   "cell_type": "code",
   "execution_count": null,
   "metadata": {},
   "outputs": [],
   "source": [
    "imgMulti = cv.imread(\"img/multi.png\")\n",
    "retMulti, dataMulti, ptsMulti, qrMulti = detQR.detectAndDecodeMulti(imgMulti)\n",
    "\n",
    "if retMulti:\n",
    "    print(\"Decoded Data : {}\".format(dataMulti))\n",
    "    displayBorder(imgMulti, ptsMulti)\n",
    "else:\n",
    "    print(\"QR Code not detected\")\n",
    "    cv.imshow(\"Results\", imgMulti)\n",
    "    cv.waitKey(0)\n",
    "    cv.destroyAllWindows()\n",
    "\n",
    "# NE PAS FERMER LA FENETRE AVEC LA CROIX ! APPUYER SUR ESPACE"
   ]
  },
  {
   "attachments": {},
   "cell_type": "markdown",
   "metadata": {},
   "source": [
    "Test avec des QR Codes dans n'importe quel sens :"
   ]
  },
  {
   "cell_type": "code",
   "execution_count": null,
   "metadata": {},
   "outputs": [],
   "source": [
    "imgMulti = cv.imread(\"img/multi-distorded.png\")\n",
    "retMulti, dataMulti, ptsMulti, qrMulti = detQR.detectAndDecodeMulti(imgMulti)\n",
    "\n",
    "if retMulti:\n",
    "    print(\"Decoded Data : {}\".format(dataMulti))\n",
    "    displayBorder(imgMulti, ptsMulti)\n",
    "else:\n",
    "    print(\"QR Code not detected\")\n",
    "    cv.imshow(\"Results\", imgMulti)\n",
    "    cv.waitKey(0)\n",
    "    cv.destroyAllWindows()\n",
    "    \n",
    "# NE PAS FERMER LA FENETRE AVEC LA CROIX ! APPUYER SUR ESPACE"
   ]
  },
  {
   "attachments": {},
   "cell_type": "markdown",
   "metadata": {},
   "source": [
    "## B. Détection de codes ArUco \n",
    "Les codes ArUco sont des codes plus petits et moins complexe que les QR Codes, ils ne contiennent qu'un simple id.\n",
    "\n",
    " On se sert d'une autre classe mais le principe est exactement le même. \n",
    " \n",
    " La fonction de détection renvoie les coordonées des codes, leur id, et également les coordonnées des codes qui ont été détectés mais dont la donnée n'est pas formattée correctement."
   ]
  },
  {
   "cell_type": "code",
   "execution_count": null,
   "metadata": {},
   "outputs": [],
   "source": [
    "detAR = cv.aruco.ArucoDetector()\n",
    "\n",
    "img = cv.imread(\"img/aruco-0.png\") # Ce code contient l'id \"0\"\n",
    "corner, id, reject = detAR.detectMarkers(img)\n",
    "\n",
    "if id is not None:\n",
    "    print(\"Decoded ids : {}\".format(id))\n",
    "    displayBorder(img, corner)\n",
    "else:\n",
    "    print(\"Aruco not detected\")\n",
    "    cv.imshow(\"Results\", img)\n",
    "    cv.waitKey(0)\n",
    "    cv.destroyAllWindows()\n",
    "    \n",
    "# NE PAS FERMER LA FENETRE AVEC LA CROIX ! APPUYER SUR ESPACE"
   ]
  },
  {
   "attachments": {},
   "cell_type": "markdown",
   "metadata": {},
   "source": [
    "Cette fois-ci, la même fonction permet de détecter plusieurs codes ArUco."
   ]
  },
  {
   "cell_type": "code",
   "execution_count": null,
   "metadata": {},
   "outputs": [],
   "source": [
    "img = cv.imread(\"img/aruco-multi.png\")\n",
    "corner, id, reject = detAR.detectMarkers(img)\n",
    "\n",
    "if id is not None:\n",
    "    print(\"Decoded ids : {}\".format(id))\n",
    "    displayBorder(img, corner)\n",
    "else:\n",
    "    print(\"Aruco not detected\")\n",
    "    cv.imshow(\"Results\", img)\n",
    "    cv.waitKey(0)\n",
    "    cv.destroyAllWindows()\n",
    "    \n",
    "# NE PAS FERMER LA FENETRE AVEC LA CROIX ! APPUYER SUR ESPACE"
   ]
  },
  {
   "attachments": {},
   "cell_type": "markdown",
   "metadata": {},
   "source": [
    "On peut encore s'amuser à les retourner dans tous les sens :"
   ]
  },
  {
   "cell_type": "code",
   "execution_count": null,
   "metadata": {},
   "outputs": [],
   "source": [
    "img = cv.imread(\"img/aruco-multi-distorded.png\")\n",
    "corner, id, reject = detAR.detectMarkers(img)\n",
    "\n",
    "if id is not None:\n",
    "    print(\"Decoded ids : {}\".format(id))\n",
    "    displayBorder(img, corner)\n",
    "else:\n",
    "    print(\"Aruco not detected\")\n",
    "    cv.imshow(\"Results\", img)\n",
    "    cv.waitKey(0)\n",
    "    cv.destroyAllWindows()\n",
    "    \n",
    "# NE PAS FERMER LA FENETRE AVEC LA CROIX ! APPUYER SUR ESPACE"
   ]
  },
  {
   "attachments": {},
   "cell_type": "markdown",
   "metadata": {},
   "source": [
    "# PARTIE 2 : Détection des codes en situation réelle\n",
    "\n",
    "Je suis parti sur l'utilisation des codes ArUco.\n",
    "\n",
    "Dans cette partie, j'ai placé différents codes sur des feuilles de papier et j'ai testé pusieurs configurations d'image pour voir les limites de la détection.\n",
    "\n",
    "Tout d'abord, je définis quelques images à tester en faisant varier certains paramètres :\n",
    "- Nombre de codes \n",
    "- Taille de l'image / des codes\n",
    "- Angle de vue\n",
    "- Luminosité\n",
    "- Degré de rotation du support"
   ]
  },
  {
   "cell_type": "code",
   "execution_count": null,
   "metadata": {},
   "outputs": [],
   "source": [
    "dictImg =  {0: \"img/photo/A3-7-clean.png\",\n",
    "            1: \"img/photo/A3-7-clean-30p.png\",\n",
    "            2: \"img/photo/A3-15-clean.png\",\n",
    "            4: \"img/photo/A3-15-clean-30p.png\",\n",
    "            5: \"img/photo/A3-15-reverse.png\",\n",
    "            7: \"img/photo/A3-15-reverse-30p.png\",\n",
    "            11: \"img/photo/A3-15-reverse-full-rotate.png\",\n",
    "            12: \"img/photo/A3-15-reverse-full-rotate-50p.png\",\n",
    "            13: \"img/photo/A3-15-reverse-full-rotate-30p.png\",\n",
    "            14: \"img/photo/reel-l1-i1.png\",\n",
    "            15: \"img/photo/reel-l1-i1-far.png\",\n",
    "            16: \"img/photo/reel-l2-i3.png\",\n",
    "            17: \"img/photo/reel-l3-i1-far.png\",\n",
    "            18: \"img/photo/reel-l4-i2-bis.png\",\n",
    "            19: \"img/photo/reel-l4-i2-far.png\",\n",
    "            20: \"img/photo/reel-l4-i3-bis.png\",\n",
    "            21: \"img/photo/reel-l0-i1.png\",\n",
    "            22: \"img/photo/reel-l0-i2-far.png\"}"
   ]
  },
  {
   "attachments": {},
   "cell_type": "markdown",
   "metadata": {},
   "source": [
    "Voici une correspondance arbitraire entre les IDs et les éléments du jeu."
   ]
  },
  {
   "cell_type": "code",
   "execution_count": null,
   "metadata": {},
   "outputs": [],
   "source": [
    "dictCode = {0: \"France\",\n",
    "            1: \"Barrage\",\n",
    "            2: \"Panneaux PV\",\n",
    "            3: \"Centrale nucléaire\",\n",
    "            4: \"Eolienne ON\",\n",
    "            5: \"Eolienne OFF\"}"
   ]
  },
  {
   "attachments": {},
   "cell_type": "markdown",
   "metadata": {},
   "source": [
    "Enfin, voilà ce que donne la détection :"
   ]
  },
  {
   "cell_type": "code",
   "execution_count": null,
   "metadata": {},
   "outputs": [],
   "source": [
    "from collections import Counter # Pour regrouper le nombre d'éléments (voir sortie console)\n",
    "\n",
    "\n",
    "for x in dictImg: # Pour chaque image\n",
    "\n",
    "    print(\"\\n################\\n\")\n",
    "\n",
    "    img = cv.imread(dictImg[x]) # Lecture de img + detection des codes\n",
    "    corner, id, reject = detAR.detectMarkers(img) # corner : les coordonnees, id : les donnees lues, reject : si un code est detecte mais donnee impossible a lire\n",
    "    print(dictImg[x][10:])\n",
    "    print(\"\")\n",
    "\n",
    "    if id is not None: # Si un code detecte\n",
    "        c = Counter(np.sort(id.reshape(1,len(id))[0])) # Liste des elements de \"id\" avec leur nombre\n",
    "        displayBorder(img, corner)\n",
    "        for y in c:\n",
    "            print(dictCode[y], \":\", c[y])\n",
    "        \n",
    "    else: # Si aucun code detecte\n",
    "        print(\"Aruco not detected\")\n",
    "        cv.imshow(\"Results\", img)\n",
    "        cv.waitKey(0)\n",
    "        cv.destroyAllWindows()\n",
    "    \n",
    "\n",
    "print(\"\")    \n",
    "\n",
    "# NE PAS FERMER LES FENETRES AVEC LA CROIX ! APPUYER SUR ESPACE"
   ]
  },
  {
   "attachments": {},
   "cell_type": "markdown",
   "metadata": {},
   "source": [
    "On est censé avoir 5 de chaque sur chaque image. On peut voir quelques ratés quand la luminosité et proche de zéro ou bien quand un code apparaît vraiment petit sur l'image. En condition réelle, ça me semble tout à fait utilisable."
   ]
  },
  {
   "attachments": {},
   "cell_type": "markdown",
   "metadata": {},
   "source": [
    "## Test en imprimant différentes tailles de code\n",
    "\n",
    "Pour mes tests, j'ai numériquement réduit la taille des images. A présent, je vais tester la détection sur des codes de 3 tailles différentes : 73%, 47% et 29% de la taille actuelle.\n",
    "\n",
    "D'après les résultats précédents, la plus petite taille ne sera sûrement pas toujours détectée, mais les codes à 47% ont le potentiel pour être assez robustes."
   ]
  },
  {
   "cell_type": "code",
   "execution_count": null,
   "metadata": {},
   "outputs": [],
   "source": [
    "dictImgTest =  {0: \"img/photo/size-test-l0-rotate.png\", \n",
    "                1: \"img/photo/size-test-l0-angle.png\",\n",
    "                2: \"img/photo/size-test-l0-far.png\",\n",
    "                3: \"img/photo/size-test.png\",\n",
    "                4: \"img/photo/size-test-angle.png\"}\n",
    "\n",
    "# J'en ai profite pour rajouter un 7eme id\n",
    "dictCode = {0: \"France\",\n",
    "            1: \"Barrage\",\n",
    "            2: \"Panneaux PV\",\n",
    "            3: \"Centrale nucléaire\",\n",
    "            4: \"Eolienne ON\",\n",
    "            5: \"Eolienne OFF\",\n",
    "            6: \"Methaniseur\"}"
   ]
  },
  {
   "cell_type": "code",
   "execution_count": null,
   "metadata": {},
   "outputs": [],
   "source": [
    "for x in dictImgTest: # Pour chaque image\n",
    "\n",
    "    print(\"\\n################\\n\")\n",
    "\n",
    "    img = cv.imread(dictImgTest[x]) # Lecture de img + detection des codes\n",
    "    corner, id, reject = detAR.detectMarkers(img) # corner : les coordonnees, id : les donnees lues, reject : si un code est detecte mais donnee impossible a lire\n",
    "    print(dictImgTest[x][10:])\n",
    "    print(\"\")\n",
    "\n",
    "    if id is not None: # Si un code detecte\n",
    "        c = Counter(np.sort(id.reshape(1,len(id))[0])) # Liste des elements de \"id\" avec leur nombre\n",
    "        displayBorder(img, corner)\n",
    "        for y in c:\n",
    "            print(dictCode[y], \":\", c[y])\n",
    "        \n",
    "    else: # Si aucun code detecte\n",
    "        print(\"Aruco not detected\")\n",
    "        cv.imshow(\"Results\", img)\n",
    "        cv.waitKey(0)\n",
    "        cv.destroyAllWindows()\n",
    "    \n",
    "\n",
    "print(\"\")    \n",
    "\n",
    "# NE PAS FERMER LES FENETRES AVEC LA CROIX ! APPUYER SUR ESPACE"
   ]
  },
  {
   "attachments": {},
   "cell_type": "markdown",
   "metadata": {},
   "source": [
    "- 73% : Tout le temps détecté, pas de surprise\n",
    "- 47% : Un seul code non détecté, lorsque le support est vraiment de travers en basse luminosité\n",
    "- 29% : A du mal dès qu'on n'est pas tout proche\n",
    "\n",
    "En condition réelle (salle pas aussi sombre, photo un minimum correcte, et potentiellement une reprise de photo), les codes à 47% semblent être des bons candidats."
   ]
  },
  {
   "attachments": {},
   "cell_type": "markdown",
   "metadata": {},
   "source": [
    "# PARTIE 3 : Localisation des codes\n",
    "\n",
    "Pour commencer, j'ai tracé un quadrillage à 9 zones A,B,..,H,I sur une feuille A4 et j'ai disposé quelques codes dessus.\n",
    "\n",
    "Pour l'instant, le calcul des positions part du principe que la photo est idéale (photo prise du dessus et feuille à la verticale)."
   ]
  },
  {
   "attachments": {},
   "cell_type": "markdown",
   "metadata": {},
   "source": [
    "La fonction detectZone() permet de trouver les coordonnées du code de région (id = 0) et de comparer ses coordonnées aux autres codes. \n",
    "\n",
    "La mesure de référence est la longueur d'un côté du code. Ici, la feuille est divisée en 15x21 codes. \n",
    "\n",
    "Cela me permet de définir vx et vy, qui sont les vecteurs correpondants aux côtés du code. Je définis également l'origine, qui sont les coordonnées du code de région.\n",
    "\n",
    "Pour vérifier dans quelle zone se trouve un code, je regarde si sa coordonée en X est entre (code-région_x) et (code-région_x + 14*vx). Le raisonnement est similaire pour Y."
   ]
  },
  {
   "cell_type": "code",
   "execution_count": null,
   "metadata": {},
   "outputs": [],
   "source": [
    "dictImgLoc =   {0: \"img/photo/zone-clean.png\",\n",
    "                1: \"img/photo/zone-angle.png\"}\n",
    "\n",
    "dictZone = {}"
   ]
  },
  {
   "cell_type": "code",
   "execution_count": null,
   "metadata": {},
   "outputs": [],
   "source": [
    "def detectZone(corner, ids):\n",
    "    inBounds = 0 # origine\n",
    "    for k in range(len(ids)):\n",
    "        if ids[k][0] == 0:\n",
    "            o = corner[k].astype(int)[0]\n",
    "            inBounds = 1\n",
    "            break\n",
    "\n",
    "    if not inBounds:\n",
    "        raise Exception(\"code region non detecte\")\n",
    "    \n",
    "    else:\n",
    "        vx = o[1] - o[0]\n",
    "        vy = o[3] - o[0]\n",
    "\n",
    "        for i in range(len(corner)):\n",
    "            coords = corner[i].astype(int)[0]\n",
    "            id = ids[i][0]\n",
    "\n",
    "            if id != 0:\n",
    "\n",
    "                if (coords[0][1] > o[0][1]).all() and (coords[2][1] < (6*vy + o[2])[1]).all(): # 1ere ligne\n",
    "                    L = 0\n",
    "                elif (coords[0][1] > o[0][1]).all() and (coords[2][1] < (13*vy + o[2])[1]).all(): # 2e\n",
    "                    L = 1\n",
    "                elif (coords[0][1] > o[0][1]).all() and (coords[2][1] < (20*vy + o[2])[1]).all(): # 3e\n",
    "                    L = 2\n",
    "                else:\n",
    "                    raise Exception(\"code hors limite ({})\".format(dictCode[id]))\n",
    "\n",
    "                if (coords[0][0] > o[0][0]).all() and (coords[1][0] < (4*vx + o[1])[0]).all(): # 1ere colonne\n",
    "                    C = 0\n",
    "                elif (coords[0][0] > o[0][0]).all() and (coords[1][0] < (9*vx + o[1])[0]).all(): # 2e\n",
    "                    C = 1\n",
    "                elif (coords[0][0] > o[0][0]).all() and (coords[1][0] < (14*vx + o[1])[0]).all(): # 3e\n",
    "                    C = 2\n",
    "                else:\n",
    "                    raise Exception(\"code hors limite ({})\".format(dictCode[id]))\n",
    "\n",
    "                if L == 0 and C == 0:\n",
    "                    zone = \"A\"\n",
    "                elif L == 0 and C == 1:\n",
    "                    zone = \"B\"\n",
    "                elif L == 0 and C == 2:\n",
    "                    zone = \"C\"\n",
    "                elif L == 1 and C == 0:\n",
    "                    zone = \"D\"\n",
    "                elif L == 1 and C == 1:\n",
    "                    zone = \"E\"\n",
    "                elif L == 1 and C == 2:\n",
    "                    zone = \"F\"\n",
    "                elif L == 2 and C == 0:\n",
    "                    zone = \"G\"\n",
    "                elif L == 2 and C == 1:\n",
    "                    zone = \"H\"\n",
    "                elif L == 2 and C == 2:\n",
    "                    zone = \"I\"\n",
    "\n",
    "                dictZone[zone].append(dictCode[id])"
   ]
  },
  {
   "cell_type": "code",
   "execution_count": null,
   "metadata": {},
   "outputs": [],
   "source": [
    "for x in dictImgLoc: # Pour chaque image\n",
    "\n",
    "    # Pour afficher les elements presents dans chaque zone\n",
    "    dictZone = {\"A\": [], \"B\": [], \"C\": [],\n",
    "                \"D\": [], \"E\": [], \"F\": [],\n",
    "                \"G\": [], \"H\": [], \"I\": [],} \n",
    "\n",
    "    print(\"\\n################\\n\")\n",
    "\n",
    "    img = cv.imread(dictImgLoc[x]) # Lecture de img + detection des codes\n",
    "    corner, id, reject = detAR.detectMarkers(img) # corner : les coordonnees, id : les donnees lues, reject : si un code est detecte mais donnee impossible a lire\n",
    "    print(dictImgLoc[x][10:])\n",
    "    print(\"\")\n",
    "\n",
    "    if id is not None: # Si un code detecte\n",
    "        c = Counter(np.sort(id.reshape(1,len(id))[0])) # Liste des elements de \"id\" avec leur nombre\n",
    "        displayBorder(img, corner)\n",
    "        for y in c:\n",
    "            print(dictCode[y], \":\", c[y])\n",
    "            \n",
    "        print(\"\")\n",
    "        detectZone(corner, id)\n",
    "        for zone in dictZone:\n",
    "            print(zone, \":\", dictZone[zone])\n",
    "        \n",
    "    else: # Si aucun code detecte\n",
    "        print(\"Aruco not detected\")\n",
    "        cv.imshow(\"Results\", img)\n",
    "        cv.waitKey(0)\n",
    "        cv.destroyAllWindows()\n",
    "    \n",
    "\n",
    "print(\"\")    \n",
    "\n",
    "# NE PAS FERMER LES FENETRES AVEC LA CROIX ! APPUYER SUR ESPACE"
   ]
  },
  {
   "attachments": {},
   "cell_type": "markdown",
   "metadata": {},
   "source": [
    "### Une exception est levée pour la 2e image, c'est normal ! \n",
    "\n",
    "Pour la 1ere image, on voit que les emplacements sont corrects. (En réalité, les frontières entre les zones sont décalées de quelques pixels mais le principe y est, ensuite il faut affiner au cas par cas.)\n",
    "\n",
    "Pour la 2e image, on n'est plus du tout dans le cas idéal ! La feuille n'est pas droite ET l'angle de vue de la caméra crée une distortion des codes. Ainsi, si on regarde la taille du code en haut à gauche (en pixels), on remarque que la feuille ne fait plus 21 unités de longueur, mais environ 28. De ce fait, le code le plus en bas à gauche est détecté comme étant hors limite.\n",
    "\n",
    "Pour palier à ça, une solution serait corriger la distortion de l'image (des fonctions existent, mais je n'ai pas testé leur efficacité). \n",
    "\n",
    "Pour la rotation de la feuille, on pourrait changer de base pour que l'origine devienne le code en haut à gauche, et la base serait les vecteurs vx et vy. A l'heure actuelle, je ne sais pas si ça vaut le coup de se lancer là-dedans car la méthode des couleurs résoudrait déjà ces problèmes, il me semble."
   ]
  },
  {
   "attachments": {},
   "cell_type": "markdown",
   "metadata": {},
   "source": [
    "----------\n",
    "\n",
    "J'ai ensuite rajouté la visualisation des bordures générées, pour bien voir la source du problème quand il y en a un."
   ]
  },
  {
   "cell_type": "code",
   "execution_count": null,
   "metadata": {},
   "outputs": [],
   "source": [
    "def detectZone(corner, ids, img):\n",
    "    inBounds = 0 # origine\n",
    "    for k in range(len(ids)):\n",
    "        if ids[k][0] == 0:\n",
    "            o = corner[k].astype(int)[0]\n",
    "            inBounds = 1\n",
    "            break\n",
    "    if not inBounds:\n",
    "        raise Exception(\"code region non detecte\")\n",
    "\n",
    "    vx = o[1] - o[0]\n",
    "    vy = o[2] - o[1]\n",
    "\n",
    "    cv.line(img, o[0], o[0]+15*vx, (0,0,255), 2)\n",
    "    cv.line(img, o[0]+7*vy, o[0]+7*vy+15*vx, (0,0,255), 2)\n",
    "    cv.line(img, o[0]+14*vy, o[0]+14*vy+15*vx, (0,0,255), 2)\n",
    "    cv.line(img, o[0]+21*vy, o[0]+21*vy+15*vx, (0,0,255), 2)\n",
    "\n",
    "    cv.line(img, o[0], o[0]+21*vy, (0,0,255), 2)\n",
    "    cv.line(img, o[0]+5*vx, o[0]+5*vx+21*vy, (0,0,255), 2)\n",
    "    cv.line(img, o[0]+10*vx, o[0]+10*vx+21*vy, (0,0,255), 2)\n",
    "    cv.line(img, o[0]+15*vx, o[0]+15*vx+21*vy, (0,0,255), 2)\n",
    " \n",
    "    # Affiche le resultat dans une fenêtre\n",
    "    cv.imshow(\"Borders\", img)\n",
    "    cv.waitKey(0) # Attente d'appui sur une touche\n",
    "    cv.destroyAllWindows()\n",
    "\n",
    "    for i in range(len(corner)):\n",
    "        coords = corner[i].astype(int)[0]\n",
    "        id = ids[i][0]\n",
    "\n",
    "        if id != 0:\n",
    "\n",
    "            if (coords[0][1] > o[0][1]).all() and (coords[2][1] < (6*vy + o[2])[1]).all(): # 1ere ligne\n",
    "                L = 0\n",
    "            elif (coords[0][1] > o[0][1]).all() and (coords[2][1] < (13*vy + o[2])[1]).all(): # 2e\n",
    "                L = 1\n",
    "            elif (coords[0][1] > o[0][1]).all() and (coords[2][1] < (20*vy + o[2])[1]).all(): # 3e\n",
    "                L = 2\n",
    "            else:\n",
    "                raise Exception(\"code hors limite ({})\".format(dictCode[id]))\n",
    "            \n",
    "            if (coords[0][0] > o[0][0]).all() and (coords[1][0] < (4*vx + o[1])[0]).all(): # 1ere colonne\n",
    "                C = 0\n",
    "            elif (coords[0][0] > o[0][0]).all() and (coords[1][0] < (9*vx + o[1])[0]).all(): # 2e\n",
    "                C = 1\n",
    "            elif (coords[0][0] > o[0][0]).all() and (coords[1][0] < (14*vx + o[1])[0]).all(): # 3e\n",
    "                C = 2\n",
    "            else:\n",
    "                raise Exception(\"code hors limite ({})\".format(dictCode[id]))\n",
    "\n",
    "            if L == 0 and C == 0:\n",
    "                zone = \"A\"\n",
    "            elif L == 0 and C == 1:\n",
    "                zone = \"B\"\n",
    "            elif L == 0 and C == 2:\n",
    "                zone = \"C\"\n",
    "            elif L == 1 and C == 0:\n",
    "                zone = \"D\"\n",
    "            elif L == 1 and C == 1:\n",
    "                zone = \"E\"\n",
    "            elif L == 1 and C == 2:\n",
    "                zone = \"F\"\n",
    "            elif L == 2 and C == 0:\n",
    "                zone = \"G\"\n",
    "            elif L == 2 and C == 1:\n",
    "                zone = \"H\"\n",
    "            elif L == 2 and C == 2:\n",
    "                zone = \"I\"\n",
    "\n",
    "            dictZone[zone].append(dictCode[id])"
   ]
  },
  {
   "cell_type": "code",
   "execution_count": null,
   "metadata": {},
   "outputs": [],
   "source": [
    "dictImgLoc =  {0: \"img/photo/zone-clean.png\",\n",
    "                1: \"img/photo/zone-full.png\",\n",
    "                2: \"img/photo/zone-angle.png\"} "
   ]
  },
  {
   "cell_type": "code",
   "execution_count": null,
   "metadata": {},
   "outputs": [],
   "source": [
    "for x in dictImgLoc: # Pour chaque image\n",
    "\n",
    "    # Pour afficher les elements presents dans chaque zone\n",
    "    dictZone = {\"A\": [], \"B\": [], \"C\": [],\n",
    "                \"D\": [], \"E\": [], \"F\": [],\n",
    "                \"G\": [], \"H\": [], \"I\": [],} \n",
    "\n",
    "    print(\"\\n################\\n\")\n",
    "\n",
    "    img = cv.imread(dictImgLoc[x]) # Lecture de img + detection des codes\n",
    "    corner, id, reject = detAR.detectMarkers(img) # corner : les coordonnees, id : les donnees lues, reject : si un code est detecte mais donnee impossible a lire\n",
    "    print(dictImgLoc[x][10:])\n",
    "    print(\"\")\n",
    "\n",
    "    if id is not None: # Si un code detecte\n",
    "        c = Counter(np.sort(id.reshape(1,len(id))[0])) # Liste des elements de \"id\" avec leur nombre\n",
    "        displayBorder(img, corner)\n",
    "        for y in c:\n",
    "            print(dictCode[y], \":\", c[y])\n",
    "\n",
    "        detectZone(corner, id, img)\n",
    "        for zone in dictZone:\n",
    "            print(zone, \":\", dictZone[zone])\n",
    "        \n",
    "    else: # Si aucun code detecte\n",
    "        print(\"Aruco not detected\")\n",
    "        cv.imshow(\"Results\", img)\n",
    "        cv.waitKey(0) # Attente d'appui sur une touche\n",
    "        cv.destroyAllWindows()\n",
    "\n",
    "# NE PAS FERMER LES FENETRES AVEC LA CROIX ! APPUYER SUR ESPACE"
   ]
  },
  {
   "attachments": {},
   "cell_type": "markdown",
   "metadata": {},
   "source": [
    "On voit maintenant bien mieux le problème de distortion évoqué juste avant."
   ]
  },
  {
   "attachments": {},
   "cell_type": "markdown",
   "metadata": {},
   "source": [
    "## Détection de couleur\n",
    "\n",
    "Ce que l'on peut faire avec openCV, c'est regarder la couleur d'un pixel.\n",
    "\n",
    "Ce que j'ai donc fait, c'est de passer en revue chaque code ArUco et, pour chaque code, je regarde un pixel proche de chaque coin. Je regarde toujours quelques pixels au-dessus, donc certains seront DANS le code et d'autres juste à côté, dans une zone de couleur.\n",
    "\n",
    "En prenant des couleurs assez éloignées et facilement identifiables, on peut créer des intervalles de couleur pour chaque zone. Alors je vérifie dans quel intervalle se situe chaque point. Les points noirs / gris seront ignorés mais quand on tombe sur un pixel de couleur, l'id et la zone correspondante sont affichés."
   ]
  },
  {
   "cell_type": "code",
   "execution_count": null,
   "metadata": {},
   "outputs": [],
   "source": [
    "colorList = { # in HSV  color space (opencv HSV ranges from (0,0,0) to (180,255,255))\n",
    "\t\"red\" : (np.array([0, 204, 204]), np.array([5, 255, 255])), # red\n",
    "\t\"magenta\" : (np.array([148, 204, 204]), np.array([165, 255, 255])), # magenta\n",
    "\t\"green\" : (np.array([45, 204, 204]), np.array([60, 255, 255])), # green\n",
    "    \"purple\" : (np.array([135, 204, 204]), np.array([140, 255, 255])), # purple\n",
    "    \"brown\" : (np.array([8, 204, 51]), np.array([18, 255, 153])), # brown\n",
    "    \"yellow\" : (np.array([25, 204, 204]), np.array([30, 255, 255])) # yellow\n",
    "}\n",
    "\n",
    "def checkColor(img, corner, ids):\n",
    "    hsv = cv.cvtColor(img, cv.COLOR_BGR2HSV)\n",
    "    for i in range(len(corner)):\n",
    "        coords = corner[i].astype(int)[0]\n",
    "        id = ids[i][0]\n",
    "\n",
    "        p1 = hsv[coords[0][1] - 5][coords[0][0]] # 10 pixels au dessus de chaque coin\n",
    "        p2 = hsv[coords[1][1] - 5][coords[1][0]]\n",
    "        p3 = hsv[coords[2][1] - 5][coords[2][0]]\n",
    "        p4 = hsv[coords[3][1] - 5][coords[3][0]]\n",
    "\n",
    "        red = colorList[\"red\"]\n",
    "        magenta = colorList[\"magenta\"]\n",
    "        green = colorList[\"green\"]\n",
    "        purple = colorList[\"purple\"]\n",
    "        brown = colorList[\"brown\"]\n",
    "        yellow = colorList[\"yellow\"]\n",
    "\n",
    "        if ((p1 >= red[0]).all() and (p1 <= red[1]).all()) or ((p2 >= red[0]).all() and (p2 <= red[1]).all()) or ((p3 >= red[0]).all() and (p3 <= red[1]).all()) or ((p4 >= red[0]).all() and (p4 <= red[1]).all()):\n",
    "            print(\"l'id {} est dans une zone rouge\".format(id))\n",
    "        elif ((p1 >= magenta[0]).all() and (p1 <= magenta[1]).all()) or ((p2 >= magenta[0]).all() and (p2 <= magenta[1]).all()) or ((p3 >= magenta[0]).all() and (p3 <= magenta[1]).all()) or ((p4 >= magenta[0]).all() and (p4 <= magenta[1]).all()):\n",
    "            print(\"l'id {} est dans une zone magenta\".format(id))\n",
    "        elif ((p1 >= green[0]).all() and (p1 <= green[1]).all()) or ((p2 >= green[0]).all() and (p2 <= green[1]).all()) or ((p3 >= green[0]).all() and (p3 <= green[1]).all()) or ((p4 >= green[0]).all() and (p4 <= green[1]).all()):\n",
    "            print(\"l'id {} est dans une zone verte\".format(id))\n",
    "        elif ((p1 >= purple[0]).all() and (p1 <= purple[1]).all()) or ((p2 >= purple[0]).all() and (p2 <= purple[1]).all()) or ((p3 >= purple[0]).all() and (p3 <= purple[1]).all()) or ((p4 >= purple[0]).all() and (p4 <= purple[1]).all()):\n",
    "            print(\"l'id {} est dans une zone violette\".format(id))\n",
    "        elif ((p1 >= brown[0]).all() and (p1 <= brown[1]).all()) or ((p2 >= brown[0]).all() and (p2 <= brown[1]).all()) or ((p3 >= brown[0]).all() and (p3 <= brown[1]).all()) or ((p4 >= brown[0]).all() and (p4 <= brown[1]).all()):\n",
    "            print(\"l'id {} est dans une zone marron\".format(id))\n",
    "        elif ((p1 >= yellow[0]).all() and (p1 <= yellow[1]).all()) or ((p2 >= yellow[0]).all() and (p2 <= yellow[1]).all()) or ((p3 >= yellow[0]).all() and (p3 <= yellow[1]).all()) or ((p4 >= yellow[0]).all() and (p4 <= yellow[1]).all()):\n",
    "            print(\"l'id {} est dans une zone jaune\".format(id))\n",
    "        else:\n",
    "            print(\"l'id {} n'est reconnu dans aucune zone\".format(id))"
   ]
  },
  {
   "attachments": {},
   "cell_type": "markdown",
   "metadata": {},
   "source": [
    "J'utilise la représentation de couleurs HSV (Nuance, Saturation, Luminosité) car elle est plus naturelle pour l'oeil humain pour délimiter les couleurs."
   ]
  },
  {
   "cell_type": "code",
   "execution_count": null,
   "metadata": {},
   "outputs": [],
   "source": [
    "dictImg =  {0: \"img/color-test.png\"}"
   ]
  },
  {
   "cell_type": "code",
   "execution_count": null,
   "metadata": {},
   "outputs": [],
   "source": [
    "for x in dictImg: # Pour chaque image\n",
    "\n",
    "    print(\"\\n################\\n\")\n",
    "\n",
    "    img = cv.imread(dictImg[x]) # Lecture de img + detection des codes\n",
    "    corner, id, reject = detAR.detectMarkers(img) # corner : les coordonnees, id : les donnees lues, reject : si un code est detecte mais donnee impossible a lire\n",
    "    print(dictImg[x][4:])\n",
    "    print(\"\")\n",
    "\n",
    "    if id is not None: # Si un code detecte\n",
    "        c = Counter(np.sort(id.reshape(1,len(id))[0])) # Liste des elements de \"id\" avec leur nombre\n",
    "\n",
    "        checkColor(img, corner, id)\n",
    "        print(\"\")\n",
    "\n",
    "        displayBorder(img, corner)\n",
    "        for y in c:\n",
    "            print(dictCode[y], \":\", c[y])  \n",
    "\n",
    "        \n",
    "    else: # Si aucun code detecte\n",
    "        print(\"Aruco not detected\")\n",
    "        cv.imshow(\"Results\", img)\n",
    "        cv.waitKey(0) # Attente d'appui sur une touche\n",
    "        cv.destroyAllWindows()\n",
    "\n",
    "\n",
    "# NE PAS FERMER LES FENETRES AVEC LA CROIX ! APPUYER SUR ESPACE"
   ]
  },
  {
   "attachments": {},
   "cell_type": "markdown",
   "metadata": {},
   "source": [
    "Avec des couleurs bien distinctes, on peut donc repérer assez facilement l'emplacement des codes !\n",
    "\n",
    "Avec des photos en revanche, on aura des intervalles plus larges car les couleurs varieront légèrement. Il faudra voir combien de couleurs différentes on peut avoir sans qu'il y ait de chevauchement.\n",
    "\n",
    "Egalement, on ne pourra sûrement pas se contenter de regarder 5 pixels au dessus du code si d'autres éléments sont à prendre en compte sur le plateau"
   ]
  },
  {
   "attachments": {},
   "cell_type": "markdown",
   "metadata": {},
   "source": [
    "Un test avec plus de couleurs, plus de codes, et une carte de la France :"
   ]
  },
  {
   "cell_type": "code",
   "execution_count": null,
   "metadata": {},
   "outputs": [],
   "source": [
    "colorList = { # in HSV  color space (opencv HSV ranges from (0,0,0) to (180,255,255))\n",
    "\t\"red\" : (np.array([0, 204, 204]), np.array([5, 255, 255])), # red\n",
    "\t\"magenta\" : (np.array([148, 204, 204]), np.array([165, 255, 255])), # magenta\n",
    "\t\"green\" : (np.array([45, 204, 204]), np.array([60, 255, 255])), # green\n",
    "    \"purple\" : (np.array([135, 204, 204]), np.array([140, 255, 255])), # purple\n",
    "    \"brown\" : (np.array([8, 204, 41]), np.array([18, 255, 153])), # brown\n",
    "    \"yellow\" : (np.array([25, 204, 204]), np.array([30, 255, 255])), # yellow\n",
    "    \"bordeaux\" : (np.array([0, 204, 102]), np.array([5, 255, 153])), # bordeaux\n",
    "    \"beige\" : (np.array([6, 115, 204]), np.array([17, 178, 255])), # beige\n",
    "    \"pink\" : (np.array([0, 76, 204]), np.array([5, 178, 255])), # pink\n",
    "    \"orange\" : (np.array([6, 204, 204]), np.array([20, 255, 255])), # orange\n",
    "    \"cyan\" : (np.array([80, 153, 204]), np.array([90, 255, 255])), # cyan\n",
    "    \"blue\" : (np.array([110, 204, 76]), np.array([125, 255, 255])) # blue\n",
    "}\n",
    "\n",
    "def checkColor(img, corner, ids):\n",
    "    hsv = cv.cvtColor(img, cv.COLOR_BGR2HSV)\n",
    "    for i in range(len(corner)):\n",
    "        coords = corner[i].astype(int)[0]\n",
    "        id = ids[i][0]\n",
    "\n",
    "        p1 = hsv[coords[0][1] - 5][coords[0][0] - 5] # diagonale de 5x5 pixels en haut à gauche de chaque coin\n",
    "        p2 = hsv[coords[1][1] - 5][coords[1][0] - 5]\n",
    "        p3 = hsv[coords[2][1] - 5][coords[2][0] - 5]\n",
    "        p4 = hsv[coords[3][1] - 5][coords[3][0] - 5]\n",
    "\n",
    "        red = colorList[\"red\"]\n",
    "        magenta = colorList[\"magenta\"]\n",
    "        green = colorList[\"green\"]\n",
    "        purple = colorList[\"purple\"]\n",
    "        brown = colorList[\"brown\"]\n",
    "        yellow = colorList[\"yellow\"]\n",
    "        bordeaux = colorList[\"bordeaux\"]\n",
    "        beige = colorList[\"beige\"]\n",
    "        pink = colorList[\"pink\"]\n",
    "        orange = colorList[\"orange\"]\n",
    "        cyan = colorList[\"cyan\"]\n",
    "        blue = colorList[\"blue\"]\n",
    "\n",
    "        if ((p1 >= red[0]).all() and (p1 <= red[1]).all()) or ((p2 >= red[0]).all() and (p2 <= red[1]).all()) or ((p3 >= red[0]).all() and (p3 <= red[1]).all()) or ((p4 >= red[0]).all() and (p4 <= red[1]).all()):\n",
    "            print(\"l'id {} est dans une zone rouge\".format(id))\n",
    "        elif ((p1 >= magenta[0]).all() and (p1 <= magenta[1]).all()) or ((p2 >= magenta[0]).all() and (p2 <= magenta[1]).all()) or ((p3 >= magenta[0]).all() and (p3 <= magenta[1]).all()) or ((p4 >= magenta[0]).all() and (p4 <= magenta[1]).all()):\n",
    "            print(\"l'id {} est dans une zone magenta\".format(id))\n",
    "        elif ((p1 >= green[0]).all() and (p1 <= green[1]).all()) or ((p2 >= green[0]).all() and (p2 <= green[1]).all()) or ((p3 >= green[0]).all() and (p3 <= green[1]).all()) or ((p4 >= green[0]).all() and (p4 <= green[1]).all()):\n",
    "            print(\"l'id {} est dans une zone verte\".format(id))\n",
    "        elif ((p1 >= purple[0]).all() and (p1 <= purple[1]).all()) or ((p2 >= purple[0]).all() and (p2 <= purple[1]).all()) or ((p3 >= purple[0]).all() and (p3 <= purple[1]).all()) or ((p4 >= purple[0]).all() and (p4 <= purple[1]).all()):\n",
    "            print(\"l'id {} est dans une zone violette\".format(id))\n",
    "        elif ((p1 >= brown[0]).all() and (p1 <= brown[1]).all()) or ((p2 >= brown[0]).all() and (p2 <= brown[1]).all()) or ((p3 >= brown[0]).all() and (p3 <= brown[1]).all()) or ((p4 >= brown[0]).all() and (p4 <= brown[1]).all()):\n",
    "            print(\"l'id {} est dans une zone marron\".format(id))\n",
    "        elif ((p1 >= yellow[0]).all() and (p1 <= yellow[1]).all()) or ((p2 >= yellow[0]).all() and (p2 <= yellow[1]).all()) or ((p3 >= yellow[0]).all() and (p3 <= yellow[1]).all()) or ((p4 >= yellow[0]).all() and (p4 <= yellow[1]).all()):\n",
    "            print(\"l'id {} est dans une zone jaune\".format(id))\n",
    "        elif ((p1 >= bordeaux[0]).all() and (p1 <= bordeaux[1]).all()) or ((p2 >= bordeaux[0]).all() and (p2 <= bordeaux[1]).all()) or ((p3 >= bordeaux[0]).all() and (p3 <= bordeaux[1]).all()) or ((p4 >= bordeaux[0]).all() and (p4 <= bordeaux[1]).all()):\n",
    "            print(\"l'id {} est dans une zone bordeaux\".format(id))\n",
    "        elif ((p1 >= beige[0]).all() and (p1 <= beige[1]).all()) or ((p2 >= beige[0]).all() and (p2 <= beige[1]).all()) or ((p3 >= beige[0]).all() and (p3 <= beige[1]).all()) or ((p4 >= beige[0]).all() and (p4 <= beige[1]).all()):\n",
    "            print(\"l'id {} est dans une zone beige\".format(id))\n",
    "        elif ((p1 >= pink[0]).all() and (p1 <= pink[1]).all()) or ((p2 >= pink[0]).all() and (p2 <= pink[1]).all()) or ((p3 >= pink[0]).all() and (p3 <= pink[1]).all()) or ((p4 >= pink[0]).all() and (p4 <= pink[1]).all()):\n",
    "            print(\"l'id {} est dans une zone rose\".format(id))\n",
    "        elif ((p1 >= orange[0]).all() and (p1 <= orange[1]).all()) or ((p2 >= orange[0]).all() and (p2 <= orange[1]).all()) or ((p3 >= orange[0]).all() and (p3 <= orange[1]).all()) or ((p4 >= orange[0]).all() and (p4 <= orange[1]).all()):\n",
    "            print(\"l'id {} est dans une zone orange\".format(id))\n",
    "        elif ((p1 >= cyan[0]).all() and (p1 <= cyan[1]).all()) or ((p2 >= cyan[0]).all() and (p2 <= cyan[1]).all()) or ((p3 >= cyan[0]).all() and (p3 <= cyan[1]).all()) or ((p4 >= cyan[0]).all() and (p4 <= cyan[1]).all()):\n",
    "            print(\"l'id {} est dans une zone cyan\".format(id))\n",
    "        elif ((p1 >= blue[0]).all() and (p1 <= blue[1]).all()) or ((p2 >= blue[0]).all() and (p2 <= blue[1]).all()) or ((p3 >= blue[0]).all() and (p3 <= blue[1]).all()) or ((p4 >= blue[0]).all() and (p4 <= blue[1]).all()):\n",
    "            print(\"l'id {} est dans une zone bleue\".format(id))\n",
    "        else:\n",
    "            print(\"l'id {} n'est reconnu dans aucune zone\".format(id))\n",
    "\n",
    "dictImg =  {1: \"img/region-test.png\"}"
   ]
  },
  {
   "cell_type": "code",
   "execution_count": null,
   "metadata": {},
   "outputs": [],
   "source": [
    "for x in dictImg: # Pour chaque image\n",
    "\n",
    "    print(\"\\n################\\n\")\n",
    "\n",
    "    img = cv.imread(dictImg[x]) # Lecture de img + detection des codes\n",
    "    corner, id, reject = detAR.detectMarkers(img) # corner : les coordonnees, id : les donnees lues, reject : si un code est detecte mais donnee impossible a lire\n",
    "    print(dictImg[x][4:])\n",
    "    print(\"\")\n",
    "\n",
    "    if id is not None: # Si un code detecte\n",
    "        c = Counter(np.sort(id.reshape(1,len(id))[0])) # Liste des elements de \"id\" avec leur nombre\n",
    "\n",
    "        checkColor(img, corner, id)\n",
    "        print(\"\")\n",
    "\n",
    "        displayBorder(img, corner)\n",
    "        for y in c:\n",
    "            print(dictCode[y], \":\", c[y])  \n",
    "\n",
    "        \n",
    "    else: # Si aucun code detecte\n",
    "        print(\"Aruco not detected\")\n",
    "        cv.imshow(\"Results\", img)\n",
    "        cv.waitKey(0) # Attente d'appui sur une touche\n",
    "        cv.destroyAllWindows()\n",
    "\n",
    "\n",
    "# NE PAS FERMER LES FENETRES AVEC LA CROIX ! APPUYER SUR ESPACE"
   ]
  },
  {
   "attachments": {},
   "cell_type": "markdown",
   "metadata": {},
   "source": [
    "Ca m'a l'air encore fiable avec 12 couleurs !"
   ]
  }
 ],
 "metadata": {
  "kernelspec": {
   "display_name": "Python 3 (ipykernel)",
   "language": "python",
   "name": "python3"
  },
  "language_info": {
   "codemirror_mode": {
    "name": "ipython",
    "version": 3
   },
   "file_extension": ".py",
   "mimetype": "text/x-python",
   "name": "python",
   "nbconvert_exporter": "python",
   "pygments_lexer": "ipython3",
   "version": "3.8.10"
  }
 },
 "nbformat": 4,
 "nbformat_minor": 2
}
